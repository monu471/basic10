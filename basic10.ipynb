{
 "cells": [
  {
   "cell_type": "markdown",
   "id": "05845d9a",
   "metadata": {},
   "source": [
    "### 1. How do you distinguish between shutil.copy() and shutil.copytree()?"
   ]
  },
  {
   "cell_type": "markdown",
   "id": "30832c90",
   "metadata": {},
   "source": [
    "shutil.copy(src, dst): This function is used to copy a single file from the source (src) to the destination (dst). It creates a new file at the destination with the same contents as the source file. If the destination file already exists, it will be overwritten. The src and dst arguments should be strings representing the source file path and the destination file path, respectively.\n",
    "\n",
    "shutil.copytree(src, dst): This function is used to recursively copy an entire directory tree from the source (src) to the destination (dst). It creates a new directory at the destination and copies all the files and subdirectories from the source directory to the destination directory. If the destination directory already exists, it will raise a FileExistsError. The src and dst arguments should be strings representing the source directory path and the destination directory path, respectively."
   ]
  },
  {
   "cell_type": "code",
   "execution_count": 1,
   "id": "2fbafcf6",
   "metadata": {},
   "outputs": [],
   "source": [
    "import shutil"
   ]
  },
  {
   "cell_type": "code",
   "execution_count": 2,
   "id": "90503134",
   "metadata": {},
   "outputs": [],
   "source": [
    "import os"
   ]
  },
  {
   "cell_type": "code",
   "execution_count": 4,
   "id": "72344129",
   "metadata": {},
   "outputs": [],
   "source": [
    "src_file = \"E:\\shutil\\src\\demo.py\"\n",
    "dest_file = \"E:\\shutil\\dest\""
   ]
  },
  {
   "cell_type": "code",
   "execution_count": 5,
   "id": "61cd95cd",
   "metadata": {},
   "outputs": [
    {
     "data": {
      "text/plain": [
       "'E:\\\\shutil\\\\dest\\\\demo.py'"
      ]
     },
     "execution_count": 5,
     "metadata": {},
     "output_type": "execute_result"
    }
   ],
   "source": [
    "shutil.copy(src_file,dest_file)"
   ]
  },
  {
   "cell_type": "code",
   "execution_count": 7,
   "id": "f9fa78d5",
   "metadata": {},
   "outputs": [],
   "source": [
    "import os "
   ]
  },
  {
   "cell_type": "code",
   "execution_count": 11,
   "id": "e7b8040e",
   "metadata": {},
   "outputs": [
    {
     "name": "stdout",
     "output_type": "stream",
     "text": [
      "File renamed successfully!\n"
     ]
    }
   ],
   "source": [
    "import os\n",
    "import shutil\n",
    "\n",
    "src_file = r\"E:\\shutil\\src\\demo.py\"\n",
    "dst_file = r\"E:\\shutil\\dst\"\n",
    "\n",
    "# Get the base name of the source file\n",
    "old_name = os.path.basename(src_file)\n",
    "\n",
    "# Rename the file\n",
    "shutil.move(src_file, dst_file)\n",
    "print(\"File renamed successfully!\")\n"
   ]
  },
  {
   "cell_type": "markdown",
   "id": "fea3cdd9",
   "metadata": {},
   "source": [
    "### 2. What function is used to rename files?"
   ]
  },
  {
   "cell_type": "markdown",
   "id": "41ba1983",
   "metadata": {},
   "source": [
    "\n",
    "The shutil.move() function in Python's shutil module is used to rename files or move them to a different location. It can be used to rename both files and directories."
   ]
  },
  {
   "cell_type": "markdown",
   "id": "013719f0",
   "metadata": {},
   "source": [
    "### 3. What is the difference between the delete functions in the send2trash and shutil modules?"
   ]
  },
  {
   "cell_type": "markdown",
   "id": "599eb796",
   "metadata": {},
   "source": [
    "`send2trash`: This module provides a cross-platform way to send files or directories to the operating system's trash or recycle bin, instead of permanently deleting them. The send2trash.send2trash() function is used to send files or directories to the trash."
   ]
  },
  {
   "cell_type": "markdown",
   "id": "dbced953",
   "metadata": {},
   "source": [
    "import send2trash\n",
    "\n",
    "file_path = \"path/to/file.txt\"\n",
    "directory_path = \"path/to/directory\"\n",
    "\n",
    "#### Send a file to the trash\n",
    "send2trash.send2trash(file_path)\n",
    "\n",
    "#### Send a directory to the trash\n",
    "send2trash.send2trash(directory_path)\n"
   ]
  },
  {
   "cell_type": "markdown",
   "id": "ce8a655e",
   "metadata": {},
   "source": [
    "`shutil`: This module provides various file and directory operations, including the ability to permanently delete files or directories using the shutil.rmtree() function."
   ]
  },
  {
   "cell_type": "markdown",
   "id": "737b9492",
   "metadata": {},
   "source": [
    "import shutil\n",
    "\n",
    "file_path = \"path/to/file.txt\"\n",
    "directory_path = \"path/to/directory\"\n",
    "\n",
    "#### Delete a file permanently\n",
    "os.remove(file_path)\n",
    "\n",
    "#### Delete a directory permanently\n",
    "shutil.rmtree(directory_path)\n"
   ]
  },
  {
   "cell_type": "markdown",
   "id": "52836e94",
   "metadata": {},
   "source": [
    "### 4.ZipFile objects have a close() method just like File objects’ close() method. What ZipFile method isequivalent to File objects’ open() method?"
   ]
  },
  {
   "cell_type": "markdown",
   "id": "4ffc4e58",
   "metadata": {},
   "source": [
    "import zipfile\n",
    "\n",
    "zip_file = zipfile.ZipFile('archive.zip', 'r')\n",
    "\n",
    "#### Open a file within the ZIP archive for reading\n",
    "file_obj = zip_file.open('file.txt')\n",
    "\n",
    "#### Read the contents of the file\n",
    "content = file_obj.read()\n",
    "\n",
    "#### Close the file object\n",
    "file_obj.close()\n",
    "\n",
    "#### Close the ZIP archive\n",
    "zip_file.close()\n"
   ]
  },
  {
   "cell_type": "code",
   "execution_count": 13,
   "id": "492b8723",
   "metadata": {},
   "outputs": [],
   "source": [
    "import zipfile"
   ]
  },
  {
   "cell_type": "code",
   "execution_count": 16,
   "id": "91e63bd0",
   "metadata": {},
   "outputs": [],
   "source": [
    "folder_loc = \"E:\\python file\\dataset_zomato.zip\"\n"
   ]
  },
  {
   "cell_type": "code",
   "execution_count": 15,
   "id": "701209af",
   "metadata": {},
   "outputs": [],
   "source": [
    "current_loc = os.getcwd()"
   ]
  },
  {
   "cell_type": "code",
   "execution_count": 19,
   "id": "d9579070",
   "metadata": {},
   "outputs": [],
   "source": [
    "change_loc = os.path.dirname(folder_loc)"
   ]
  },
  {
   "cell_type": "code",
   "execution_count": 20,
   "id": "c6837d2a",
   "metadata": {},
   "outputs": [],
   "source": [
    "os.chdir(change_loc)"
   ]
  },
  {
   "cell_type": "code",
   "execution_count": 21,
   "id": "7d6a16a6",
   "metadata": {},
   "outputs": [
    {
     "data": {
      "text/plain": [
       "'E:\\\\python file'"
      ]
     },
     "execution_count": 21,
     "metadata": {},
     "output_type": "execute_result"
    }
   ],
   "source": [
    "os.getcwd()"
   ]
  },
  {
   "cell_type": "code",
   "execution_count": 22,
   "id": "26c241ea",
   "metadata": {},
   "outputs": [
    {
     "name": "stdout",
     "output_type": "stream",
     "text": [
      "Country-Code.xlsx\n",
      "file1.json\n",
      "file2.json\n",
      "file3.json\n",
      "file4.json\n",
      "file5.json\n",
      "Untitled.ipynb\n",
      "zomato.csv\n"
     ]
    }
   ],
   "source": [
    "import zipfile\n",
    "\n",
    "zip_file = zipfile.ZipFile('dataset_zomato.zip', 'r')\n",
    "\n",
    "# Get the list of file and directory names inside the ZIP archive\n",
    "file_list = zip_file.namelist()\n",
    "\n",
    "# Print the list of file and directory names\n",
    "for file_name in file_list:\n",
    "    print(file_name)\n",
    "\n",
    "# Close the ZIP archive\n",
    "zip_file.close()\n"
   ]
  },
  {
   "cell_type": "code",
   "execution_count": 23,
   "id": "14907690",
   "metadata": {},
   "outputs": [],
   "source": [
    "os.chdir(current_loc)"
   ]
  },
  {
   "cell_type": "code",
   "execution_count": 24,
   "id": "0d9f5c01",
   "metadata": {},
   "outputs": [
    {
     "data": {
      "text/plain": [
       "'E:\\\\due_assignment\\\\basic_assignment'"
      ]
     },
     "execution_count": 24,
     "metadata": {},
     "output_type": "execute_result"
    }
   ],
   "source": [
    "os.getcwd()"
   ]
  },
  {
   "cell_type": "markdown",
   "id": "fb6e57e1",
   "metadata": {},
   "source": [
    "### 5. Create a programme that searches a folder tree for files with a certain file extension (such as .pdfor .jpg). Copy these filfrom whatever location they are in to a new folder."
   ]
  },
  {
   "cell_type": "code",
   "execution_count": 37,
   "id": "47b3aa49",
   "metadata": {},
   "outputs": [],
   "source": [
    "import os\n",
    "import shutil\n",
    "\n",
    "def copy_files_by_extension(source_folder, target_folder, extension):\n",
    "    # Create the target folder if it doesn't exist\n",
    "    if not os.path.exists(target_folder):\n",
    "        os.makedirs(target_folder)\n",
    "\n",
    "    # Iterate through the folder tree\n",
    "    for root, dirs, files in os.walk(source_folder):\n",
    "        for file in files:\n",
    "            # Check if the file has the desired extension\n",
    "            if file.endswith(extension):\n",
    "                # Get the full path of the source file\n",
    "                source_file = os.path.join(root, file)\n",
    "\n",
    "                # Construct the destination path by preserving the relative folder structure\n",
    "                relative_path = os.path.relpath(source_file, source_folder)\n",
    "                destination_file = os.path.join(target_folder, relative_path)\n",
    "\n",
    "                # Create the directory structure in the target folder if it doesn't exist\n",
    "                destination_dir = os.path.dirname(destination_file)\n",
    "                if not os.path.exists(destination_dir):\n",
    "                    os.makedirs(destination_dir)\n",
    "\n",
    "                # Copy the file to the target folder\n",
    "                shutil.copy2(source_file, destination_file)\n",
    "                return \"file copy successfull\"\n",
    "                \n",
    "\n",
    "# # Example usage\n",
    "# source_folder = '/path/to/source/folder'\n",
    "# target_folder = '/path/to/target/folder'\n",
    "# extension = '.pdf'\n",
    "\n",
    "\n"
   ]
  },
  {
   "cell_type": "code",
   "execution_count": 38,
   "id": "65a4f8d5",
   "metadata": {},
   "outputs": [],
   "source": [
    "copy_files_by_extension(source_folder= src_file,target_folder=dest_file,extension=\".py\")"
   ]
  },
  {
   "cell_type": "code",
   "execution_count": 41,
   "id": "7a39117f",
   "metadata": {},
   "outputs": [
    {
     "data": {
      "text/plain": [
       "True"
      ]
     },
     "execution_count": 41,
     "metadata": {},
     "output_type": "execute_result"
    }
   ],
   "source": [
    "os.path.exists(dest_file)"
   ]
  },
  {
   "cell_type": "code",
   "execution_count": null,
   "id": "5d12d028",
   "metadata": {},
   "outputs": [],
   "source": []
  }
 ],
 "metadata": {
  "kernelspec": {
   "display_name": "Python 3 (ipykernel)",
   "language": "python",
   "name": "python3"
  },
  "language_info": {
   "codemirror_mode": {
    "name": "ipython",
    "version": 3
   },
   "file_extension": ".py",
   "mimetype": "text/x-python",
   "name": "python",
   "nbconvert_exporter": "python",
   "pygments_lexer": "ipython3",
   "version": "3.10.9"
  }
 },
 "nbformat": 4,
 "nbformat_minor": 5
}
